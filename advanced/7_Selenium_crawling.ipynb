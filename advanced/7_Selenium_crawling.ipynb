{
 "cells": [
  {
   "cell_type": "code",
   "execution_count": 1,
   "metadata": {},
   "outputs": [
    {
     "name": "stdout",
     "output_type": "stream",
     "text": [
      "Collecting selenium==4.17.2\n",
      "  Obtaining dependency information for selenium==4.17.2 from https://files.pythonhosted.org/packages/97/e3/fd7272d6d2c49fd49a79a603cb28c8b5a71f8911861b4a0409b3c006a241/selenium-4.17.2-py3-none-any.whl.metadata\n",
      "  Downloading selenium-4.17.2-py3-none-any.whl.metadata (6.9 kB)\n",
      "Requirement already satisfied: urllib3[socks]<3,>=1.26 in c:\\users\\kimvj\\appdata\\local\\programs\\python\\python311\\lib\\site-packages (from selenium==4.17.2) (2.2.1)\n",
      "Collecting trio~=0.17 (from selenium==4.17.2)\n",
      "  Obtaining dependency information for trio~=0.17 from https://files.pythonhosted.org/packages/76/51/12d78ec8abcbda51d8f115d98ebd3ee3da9d9d9af00ac69d3097c5b8d51a/trio-0.25.1-py3-none-any.whl.metadata\n",
      "  Downloading trio-0.25.1-py3-none-any.whl.metadata (8.7 kB)\n",
      "Collecting trio-websocket~=0.9 (from selenium==4.17.2)\n",
      "  Obtaining dependency information for trio-websocket~=0.9 from https://files.pythonhosted.org/packages/48/be/a9ae5f50cad5b6f85bd2574c2c923730098530096e170c1ce7452394d7aa/trio_websocket-0.11.1-py3-none-any.whl.metadata\n",
      "  Downloading trio_websocket-0.11.1-py3-none-any.whl.metadata (4.7 kB)\n",
      "Requirement already satisfied: certifi>=2021.10.8 in c:\\users\\kimvj\\appdata\\local\\programs\\python\\python311\\lib\\site-packages (from selenium==4.17.2) (2024.2.2)\n",
      "Requirement already satisfied: typing_extensions>=4.9.0 in c:\\users\\kimvj\\appdata\\roaming\\python\\python311\\site-packages (from selenium==4.17.2) (4.11.0)\n",
      "Collecting attrs>=23.2.0 (from trio~=0.17->selenium==4.17.2)\n",
      "  Obtaining dependency information for attrs>=23.2.0 from https://files.pythonhosted.org/packages/e0/44/827b2a91a5816512fcaf3cc4ebc465ccd5d598c45cefa6703fcf4a79018f/attrs-23.2.0-py3-none-any.whl.metadata\n",
      "  Downloading attrs-23.2.0-py3-none-any.whl.metadata (9.5 kB)\n",
      "Collecting sortedcontainers (from trio~=0.17->selenium==4.17.2)\n",
      "  Obtaining dependency information for sortedcontainers from https://files.pythonhosted.org/packages/32/46/9cb0e58b2deb7f82b84065f37f3bffeb12413f947f9388e4cac22c4621ce/sortedcontainers-2.4.0-py2.py3-none-any.whl.metadata\n",
      "  Downloading sortedcontainers-2.4.0-py2.py3-none-any.whl.metadata (10 kB)\n",
      "Requirement already satisfied: idna in c:\\users\\kimvj\\appdata\\local\\programs\\python\\python311\\lib\\site-packages (from trio~=0.17->selenium==4.17.2) (3.7)\n",
      "Collecting outcome (from trio~=0.17->selenium==4.17.2)\n",
      "  Obtaining dependency information for outcome from https://files.pythonhosted.org/packages/55/8b/5ab7257531a5d830fc8000c476e63c935488d74609b50f9384a643ec0a62/outcome-1.3.0.post0-py2.py3-none-any.whl.metadata\n",
      "  Downloading outcome-1.3.0.post0-py2.py3-none-any.whl.metadata (2.6 kB)\n",
      "Collecting sniffio>=1.3.0 (from trio~=0.17->selenium==4.17.2)\n",
      "  Obtaining dependency information for sniffio>=1.3.0 from https://files.pythonhosted.org/packages/e9/44/75a9c9421471a6c4805dbf2356f7c181a29c1879239abab1ea2cc8f38b40/sniffio-1.3.1-py3-none-any.whl.metadata\n",
      "  Downloading sniffio-1.3.1-py3-none-any.whl.metadata (3.9 kB)\n",
      "Collecting cffi>=1.14 (from trio~=0.17->selenium==4.17.2)\n",
      "  Obtaining dependency information for cffi>=1.14 from https://files.pythonhosted.org/packages/5a/c7/694814b3757878b29da39bc2f0cf9d20295f4c1e0a0bde7971708d5f23f8/cffi-1.16.0-cp311-cp311-win_amd64.whl.metadata\n",
      "  Downloading cffi-1.16.0-cp311-cp311-win_amd64.whl.metadata (1.5 kB)\n",
      "Collecting wsproto>=0.14 (from trio-websocket~=0.9->selenium==4.17.2)\n",
      "  Obtaining dependency information for wsproto>=0.14 from https://files.pythonhosted.org/packages/78/58/e860788190eba3bcce367f74d29c4675466ce8dddfba85f7827588416f01/wsproto-1.2.0-py3-none-any.whl.metadata\n",
      "  Downloading wsproto-1.2.0-py3-none-any.whl.metadata (5.6 kB)\n",
      "Collecting pysocks!=1.5.7,<2.0,>=1.5.6 (from urllib3[socks]<3,>=1.26->selenium==4.17.2)\n",
      "  Obtaining dependency information for pysocks!=1.5.7,<2.0,>=1.5.6 from https://files.pythonhosted.org/packages/8d/59/b4572118e098ac8e46e399a1dd0f2d85403ce8bbaad9ec79373ed6badaf9/PySocks-1.7.1-py3-none-any.whl.metadata\n",
      "  Downloading PySocks-1.7.1-py3-none-any.whl.metadata (13 kB)\n",
      "Collecting pycparser (from cffi>=1.14->trio~=0.17->selenium==4.17.2)\n",
      "  Obtaining dependency information for pycparser from https://files.pythonhosted.org/packages/13/a3/a812df4e2dd5696d1f351d58b8fe16a405b234ad2886a0dab9183fb78109/pycparser-2.22-py3-none-any.whl.metadata\n",
      "  Downloading pycparser-2.22-py3-none-any.whl.metadata (943 bytes)\n",
      "Collecting h11<1,>=0.9.0 (from wsproto>=0.14->trio-websocket~=0.9->selenium==4.17.2)\n",
      "  Obtaining dependency information for h11<1,>=0.9.0 from https://files.pythonhosted.org/packages/95/04/ff642e65ad6b90db43e668d70ffb6736436c7ce41fcc549f4e9472234127/h11-0.14.0-py3-none-any.whl.metadata\n",
      "  Downloading h11-0.14.0-py3-none-any.whl.metadata (8.2 kB)\n",
      "Downloading selenium-4.17.2-py3-none-any.whl (9.9 MB)\n",
      "   ---------------------------------------- 0.0/9.9 MB ? eta -:--:--\n",
      "   - -------------------------------------- 0.3/9.9 MB 9.0 MB/s eta 0:00:02\n",
      "   -- ------------------------------------- 0.7/9.9 MB 8.7 MB/s eta 0:00:02\n",
      "   ---- ----------------------------------- 1.1/9.9 MB 8.7 MB/s eta 0:00:02\n",
      "   ------ --------------------------------- 1.5/9.9 MB 8.6 MB/s eta 0:00:01\n",
      "   ------- -------------------------------- 1.9/9.9 MB 9.2 MB/s eta 0:00:01\n",
      "   --------- ------------------------------ 2.3/9.9 MB 9.3 MB/s eta 0:00:01\n",
      "   ----------- ---------------------------- 2.7/9.9 MB 9.1 MB/s eta 0:00:01\n",
      "   ------------ --------------------------- 3.2/9.9 MB 9.3 MB/s eta 0:00:01\n",
      "   -------------- ------------------------- 3.6/9.9 MB 9.3 MB/s eta 0:00:01\n",
      "   ---------------- ----------------------- 4.1/9.9 MB 9.3 MB/s eta 0:00:01\n",
      "   ------------------ --------------------- 4.5/9.9 MB 9.5 MB/s eta 0:00:01\n",
      "   -------------------- ------------------- 5.0/9.9 MB 9.5 MB/s eta 0:00:01\n",
      "   --------------------- ------------------ 5.4/9.9 MB 9.3 MB/s eta 0:00:01\n",
      "   ----------------------- ---------------- 5.9/9.9 MB 9.4 MB/s eta 0:00:01\n",
      "   ------------------------- -------------- 6.4/9.9 MB 9.5 MB/s eta 0:00:01\n",
      "   --------------------------- ------------ 6.8/9.9 MB 9.7 MB/s eta 0:00:01\n",
      "   ----------------------------- ---------- 7.3/9.9 MB 9.7 MB/s eta 0:00:01\n",
      "   ------------------------------- -------- 7.7/9.9 MB 9.6 MB/s eta 0:00:01\n",
      "   -------------------------------- ------- 8.1/9.9 MB 9.6 MB/s eta 0:00:01\n",
      "   ---------------------------------- ----- 8.6/9.9 MB 9.7 MB/s eta 0:00:01\n",
      "   ------------------------------------ --- 8.9/9.9 MB 9.7 MB/s eta 0:00:01\n",
      "   ---------------------------------------  9.7/9.9 MB 9.8 MB/s eta 0:00:01\n",
      "   ---------------------------------------  9.9/9.9 MB 9.9 MB/s eta 0:00:01\n",
      "   ---------------------------------------- 9.9/9.9 MB 9.4 MB/s eta 0:00:00\n",
      "Downloading trio-0.25.1-py3-none-any.whl (467 kB)\n",
      "   ---------------------------------------- 0.0/467.7 kB ? eta -:--:--\n",
      "   -------------------------------------- - 450.6/467.7 kB 9.4 MB/s eta 0:00:01\n",
      "   ---------------------------------------- 467.7/467.7 kB 9.7 MB/s eta 0:00:00\n",
      "Downloading trio_websocket-0.11.1-py3-none-any.whl (17 kB)\n",
      "Downloading attrs-23.2.0-py3-none-any.whl (60 kB)\n",
      "   ---------------------------------------- 0.0/60.8 kB ? eta -:--:--\n",
      "   ---------------------------------------- 60.8/60.8 kB ? eta 0:00:00\n",
      "Downloading cffi-1.16.0-cp311-cp311-win_amd64.whl (181 kB)\n",
      "   ---------------------------------------- 0.0/181.5 kB ? eta -:--:--\n",
      "   ---------------------------------------- 181.5/181.5 kB 5.4 MB/s eta 0:00:00\n",
      "Downloading PySocks-1.7.1-py3-none-any.whl (16 kB)\n",
      "Downloading sniffio-1.3.1-py3-none-any.whl (10 kB)\n",
      "Downloading wsproto-1.2.0-py3-none-any.whl (24 kB)\n",
      "Downloading outcome-1.3.0.post0-py2.py3-none-any.whl (10 kB)\n",
      "Downloading sortedcontainers-2.4.0-py2.py3-none-any.whl (29 kB)\n",
      "Downloading h11-0.14.0-py3-none-any.whl (58 kB)\n",
      "   ---------------------------------------- 0.0/58.3 kB ? eta -:--:--\n",
      "   ---------------------------------------- 58.3/58.3 kB 3.0 MB/s eta 0:00:00\n",
      "Downloading pycparser-2.22-py3-none-any.whl (117 kB)\n",
      "   ---------------------------------------- 0.0/117.6 kB ? eta -:--:--\n",
      "   ---------------------------------------- 117.6/117.6 kB 6.7 MB/s eta 0:00:00\n",
      "Installing collected packages: sortedcontainers, sniffio, pysocks, pycparser, h11, attrs, wsproto, outcome, cffi, trio, trio-websocket, selenium\n",
      "Successfully installed attrs-23.2.0 cffi-1.16.0 h11-0.14.0 outcome-1.3.0.post0 pycparser-2.22 pysocks-1.7.1 selenium-4.17.2 sniffio-1.3.1 sortedcontainers-2.4.0 trio-0.25.1 trio-websocket-0.11.1 wsproto-1.2.0\n",
      "Note: you may need to restart the kernel to use updated packages.\n"
     ]
    },
    {
     "name": "stderr",
     "output_type": "stream",
     "text": [
      "\n",
      "[notice] A new release of pip is available: 23.2.1 -> 24.0\n",
      "[notice] To update, run: python.exe -m pip install --upgrade pip\n"
     ]
    }
   ],
   "source": [
    "pip install selenium==4.17.2"
   ]
  },
  {
   "cell_type": "code",
   "execution_count": 5,
   "metadata": {},
   "outputs": [],
   "source": [
    "from selenium import webdriver\n",
    "driver = webdriver.Chrome()"
   ]
  },
  {
   "cell_type": "code",
   "execution_count": 6,
   "metadata": {},
   "outputs": [],
   "source": [
    "# 원하는 페이지로 이동하는 방법\n",
    "driver.get(\"https://www.naver.com\")"
   ]
  },
  {
   "cell_type": "code",
   "execution_count": null,
   "metadata": {},
   "outputs": [],
   "source": [
    "# 기본 조작\n",
    "# 뒤로 가기\n",
    "driver.back()\n",
    "# 앞으로 가기\n",
    "driver.forward()\n",
    "# 새로고침\n",
    "driver.refresh()\n",
    "# 현재창 닫기\n",
    "driver.close()\n",
    "# 모든 창 닫고 webdriver 세션 종료\n",
    "driver.quit()\n",
    "# 현재 URL 확인 - 읽기 전용이라 변수에 할당할 수 없다.\n",
    "driver.current_url\n",
    "# page 제목 확인\n",
    "driver.title\n",
    "# 창크기 조절\n",
    "driver.maximize_window() # 최대화\n",
    "driver.minimize_window() # 최소화"
   ]
  },
  {
   "cell_type": "code",
   "execution_count": null,
   "metadata": {},
   "outputs": [],
   "source": [
    "# redirection 처리 : 웹페이지 접근 시 \"redirection이 발생하는 경우, driver.current_url은 최종적으로 redirection된 후의 url을 반환\" <- redirection 후 최종 url 확인할 때 유용\n",
    "# redirection : 웹에서 사용자나 브라우저를 자동으로 다른 url로 이동시키는 과정\n"
   ]
  },
  {
   "cell_type": "code",
   "execution_count": 7,
   "metadata": {},
   "outputs": [],
   "source": [
    "# practice\n",
    "from selenium import webdriver\n",
    "driver = webdriver.Chrome()"
   ]
  },
  {
   "cell_type": "code",
   "execution_count": 8,
   "metadata": {},
   "outputs": [],
   "source": [
    "driver.get(\"https://www.naver.com\")"
   ]
  },
  {
   "cell_type": "code",
   "execution_count": 9,
   "metadata": {},
   "outputs": [],
   "source": [
    "driver.back()"
   ]
  },
  {
   "cell_type": "code",
   "execution_count": 10,
   "metadata": {},
   "outputs": [],
   "source": [
    "driver.forward()"
   ]
  },
  {
   "cell_type": "code",
   "execution_count": 11,
   "metadata": {},
   "outputs": [],
   "source": [
    "driver.refresh()"
   ]
  },
  {
   "cell_type": "code",
   "execution_count": 12,
   "metadata": {},
   "outputs": [
    {
     "data": {
      "text/plain": [
       "'https://www.naver.com/'"
      ]
     },
     "execution_count": 12,
     "metadata": {},
     "output_type": "execute_result"
    }
   ],
   "source": [
    "driver.current_url"
   ]
  },
  {
   "cell_type": "code",
   "execution_count": 13,
   "metadata": {},
   "outputs": [
    {
     "data": {
      "text/plain": [
       "'NAVER'"
      ]
     },
     "execution_count": 13,
     "metadata": {},
     "output_type": "execute_result"
    }
   ],
   "source": [
    "driver.title"
   ]
  },
  {
   "cell_type": "code",
   "execution_count": 14,
   "metadata": {},
   "outputs": [],
   "source": [
    "driver.maximize_window()"
   ]
  },
  {
   "cell_type": "code",
   "execution_count": 15,
   "metadata": {},
   "outputs": [],
   "source": [
    "driver.close()"
   ]
  },
  {
   "cell_type": "code",
   "execution_count": null,
   "metadata": {},
   "outputs": [],
   "source": [
    "# By class : 태그를 찾을 때 사용할 수 있는 다양한 방법 (ex 선택자, 클래스이름, ID, Xpath)\n",
    "from selenium.webdriver.common.by import By\n",
    "\n",
    "driver.find_element(By.CSS_SELECTOR, \"CSS선택자\")\n",
    "# TIP\n",
    "# f12 눌러서 copy -> copy selector를 누르면 편하다"
   ]
  },
  {
   "cell_type": "code",
   "execution_count": 19,
   "metadata": {},
   "outputs": [],
   "source": [
    "from selenium import webdriver\n",
    "from selenium.webdriver.common.by import By\n",
    "from selenium.webdriver.common.keys import Keys\n",
    "\n",
    "driver = webdriver.Chrome()\n",
    "driver.get(\"https://www.naver.com\")\n",
    "search = driver.find_element(By.CSS_SELECTOR, \"#query\")\n",
    "search.click()\n",
    "search.send_keys(\"dongpakkaflutter\")\n",
    "search.send_keys(Keys.ENTER)"
   ]
  }
 ],
 "metadata": {
  "kernelspec": {
   "display_name": "Python 3",
   "language": "python",
   "name": "python3"
  },
  "language_info": {
   "codemirror_mode": {
    "name": "ipython",
    "version": 3
   },
   "file_extension": ".py",
   "mimetype": "text/x-python",
   "name": "python",
   "nbconvert_exporter": "python",
   "pygments_lexer": "ipython3",
   "version": "3.11.6"
  }
 },
 "nbformat": 4,
 "nbformat_minor": 2
}
