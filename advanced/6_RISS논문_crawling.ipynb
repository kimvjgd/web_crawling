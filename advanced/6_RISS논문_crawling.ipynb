{
 "cells": [
  {
   "cell_type": "code",
   "execution_count": null,
   "metadata": {},
   "outputs": [],
   "source": [
    "import requests\n",
    "from bs4 import BeautifulSoup\n",
    "\n",
    "\n",
    "\n",
    "response = requests.get(\"https://www.riss.kr/search/Search.do?isDetailSearch=N&searchGubun=true&viewYn=OP&queryText=&strQuery=%ED%8C%A8%EC%85%98+%EC%9D%B8%EA%B3%B5%EC%A7%80%EB%8A%A5&exQuery=&exQueryText=&order=%2FDESC&onHanja=false&strSort=RANK&p_year1=&p_year2=&iStartCount=0&orderBy=&mat_type=&mat_subtype=&fulltext_kind=&t_gubun=&learning_type=&ccl_code=&inside_outside=&fric_yn=&db_type=&image_yn=&gubun=&kdc=&ttsUseYn=&l_sub_code=&fsearchMethod=&sflag=1&isFDetailSearch=N&pageNumber=1&resultKeyword=%ED%8C%A8%EC%85%98+%EC%9D%B8%EA%B3%B5%EC%A7%80%EB%8A%A5&fsearchSort=&fsearchOrder=&limiterList=&limiterListText=&facetList=&facetListText=&fsearchDB=&icate=re_a_kor&colName=re_a_kor&pageScale=100&isTab=Y&regnm=&dorg_storage=&language=&language_code=&clickKeyword=&relationKeyword=&query=%ED%8C%A8%EC%85%98+%EC%9D%B8%EA%B3%B5%EC%A7%80%EB%8A%A5\")\n",
    "html = response.text\n",
    "soup = BeautifulSoup(html, \"html.parser\")\n"
   ]
  },
  {
   "cell_type": "markdown",
   "metadata": {},
   "source": [
    "f12눌러서 Network 간 다음엔 새로고침하고 맨 위로가고 payload 누르면 parameter를 볼 수 있다.  "
   ]
  },
  {
   "cell_type": "code",
   "execution_count": 1,
   "metadata": {},
   "outputs": [],
   "source": [
    "import requests\n",
    "from bs4 import BeautifulSoup\n",
    "# 파라미터 종류가 많을 경우 꿀팁\n",
    "param = {\n",
    "    'isDetailSearch': 'N',\n",
    "    'searchGubun': 'true',\n",
    "    'viewYn': 'OP',\n",
    "    'strQuery': '패션 인공지능',\n",
    "    'order': '/DESC',\n",
    "    'onHanja': 'false',\n",
    "    'strSort': 'RANK',\n",
    "    'iStartCount': 0,\n",
    "    'fsearchMethod' : 'search',\n",
    "    'sflag': 1,\n",
    "    'isFDetailSearch': 'N',\n",
    "    'pageNumber': 1,\n",
    "    'icate': 're_a_kor',\n",
    "    'colName': 're_a_kor',\n",
    "    'pageScale': 10,\n",
    "    'isTab': 'Y',\n",
    "    'query': '패션 인공지능',\n",
    "}\n",
    "\n",
    "response = requests.get(\"https://www.riss.kr/search/Search.do\", params=param)\n",
    "html = response.text\n",
    "soup = BeautifulSoup(html, \"html.parser\")\n"
   ]
  },
  {
   "cell_type": "code",
   "execution_count": 7,
   "metadata": {},
   "outputs": [],
   "source": [
    "# 2 단계\n",
    "# for 문 안쪽에서 추가로 요청을 보낼 수 있음\n",
    "# 목록에서 크롤링한 링크로 상세 페이지 요청\n",
    "import requests\n",
    "from bs4 import BeautifulSoup\n",
    "# 파라미터 종류가 많을 경우 꿀팁\n",
    "param = {\n",
    "    'isDetailSearch': 'N',\n",
    "    'searchGubun': 'true',\n",
    "    'viewYn': 'OP',\n",
    "    'strQuery': '패션 인공지능',\n",
    "    'order': '/DESC',\n",
    "    'onHanja': 'false',\n",
    "    'strSort': 'RANK',\n",
    "    'iStartCount': 0,\n",
    "    'fsearchMethod' : 'search',\n",
    "    'sflag': 1,\n",
    "    'isFDetailSearch': 'N',\n",
    "    'pageNumber': 1,\n",
    "    'icate': 're_a_kor',\n",
    "    'colName': 're_a_kor',\n",
    "    'pageScale': 10,\n",
    "    'isTab': 'Y',\n",
    "    'query': '패션 인공지능',\n",
    "}\n",
    "\n",
    "response = requests.get(\"https://www.riss.kr/search/Search.do\", params=param)\n",
    "html = response.text\n",
    "soup = BeautifulSoup(html, \"html.parser\")\n",
    "articles = soup.select(\".srchResultListW > ul > li\")"
   ]
  },
  {
   "cell_type": "code",
   "execution_count": 10,
   "metadata": {},
   "outputs": [
    {
     "ename": "AttributeError",
     "evalue": "'NoneType' object has no attribute 'text'",
     "output_type": "error",
     "traceback": [
      "\u001b[1;31m---------------------------------------------------------------------------\u001b[0m",
      "\u001b[1;31mAttributeError\u001b[0m                            Traceback (most recent call last)",
      "Cell \u001b[1;32mIn[10], line 9\u001b[0m\n\u001b[0;32m      7\u001b[0m html \u001b[38;5;241m=\u001b[39m response\u001b[38;5;241m.\u001b[39mtext\n\u001b[0;32m      8\u001b[0m soup \u001b[38;5;241m=\u001b[39m BeautifulSoup(html, \u001b[38;5;124m'\u001b[39m\u001b[38;5;124mhtml.parser\u001b[39m\u001b[38;5;124m'\u001b[39m)\n\u001b[1;32m----> 9\u001b[0m press \u001b[38;5;241m=\u001b[39m \u001b[43msoup\u001b[49m\u001b[38;5;241;43m.\u001b[39;49m\u001b[43mselect_one\u001b[49m\u001b[43m(\u001b[49m\u001b[38;5;124;43m\"\u001b[39;49m\u001b[38;5;124;43m.infoDetailL > ul > li:nth-of-type(2) > div\u001b[39;49m\u001b[38;5;124;43m\"\u001b[39;49m\u001b[43m)\u001b[49m\u001b[38;5;241;43m.\u001b[39;49m\u001b[43mtext\u001b[49m\n\u001b[0;32m     10\u001b[0m \u001b[38;5;28mprint\u001b[39m(title, link, press)\n",
      "\u001b[1;31mAttributeError\u001b[0m: 'NoneType' object has no attribute 'text'"
     ]
    }
   ],
   "source": [
    "for article in articles:\n",
    "    title = article.select_one(\".title > a\").text\n",
    "    link = 'https://www.riss.kr' + article.select_one(\".title > a\").attrs['href']\n",
    "\n",
    "    # 상세 페이지 요청\n",
    "    response = requests.get(link)\n",
    "    html = response.text\n",
    "    soup = BeautifulSoup(html, 'html.parser')\n",
    "    # 이렇게 하면 error가 뜬다.\n",
    "    # soup에 원하는 정보가 없다. -> 서버에서 요청 거절을 했기 때문이다.\n",
    "    press = soup.select_one(\".infoDetailL > ul > li:nth-of-type(2) > div\").text\n",
    "    print(title, link, press)"
   ]
  },
  {
   "cell_type": "markdown",
   "metadata": {},
   "source": [
    "서버의 요청 거절에 대한 케이스 (static page에서 10번 중 1~2번은 이렇다.)\n",
    "1. 상태코드 200 -> 응답받은 html이 올바르지 않음\n",
    "2. 상태코드 400번대\n",
    "3. 무한루프 -> 쿠팡이 자주 이렇다.\n",
    "\n",
    "-> 헤더를 추가해주면 된다. (내가 누군지 알려주는 정보)\n",
    "서버쪽에서 요청을 거절할 때, 팔요한 정보를 같이 날려준다.\n",
    "'User-Agent': 'Mozilla/5.0'         <- web browser를 통해 날린 요청이에요!\n",
    "'Referer' : \"URL 주소값'\n",
    "\n",
    "원하는 url 들어가서\n",
    "f12 -> Network -> 맨위 꺼에서 Headers -> Request Headers"
   ]
  },
  {
   "cell_type": "code",
   "execution_count": 11,
   "metadata": {},
   "outputs": [
    {
     "name": "stdout",
     "output_type": "stream",
     "text": [
      "패션 제조 기업의 디지털 트랜스포메이션을 위한 인공지능 솔루션 개발 및 활용 현황 https://www.riss.kr/search/detail/DetailView.do?p_mat_type=1a0202e37d52c72d&control_no=dcd1a8e873c0ca787ecd42904f0c5d65&keyword=패션 인공지능 한국패션비즈니스학회\n",
      "패션산업에 반영된 인공지능 사례연구 -패션 소비자 중심으로- https://www.riss.kr/search/detail/DetailView.do?p_mat_type=1a0202e37d52c72d&control_no=9c3313ce986b119147de9c1710b0298d&keyword=패션 인공지능 한국디자인문화학회\n",
      "인공지능(AI) 패션 스타일링 서비스 ‘스티치 픽스’의 융합 콘텐츠 연구 https://www.riss.kr/search/detail/DetailView.do?p_mat_type=1a0202e37d52c72d&control_no=404996b30e5d827bb7998d826d417196&keyword=패션 인공지능 한국전시산업융합연구원\n",
      "패션산업에서 인공지능 기반의 디자인 프로세스 혁신에 관한 연구 https://www.riss.kr/search/detail/DetailView.do?p_mat_type=1a0202e37d52c72d&control_no=78a4c578a5bbf1a94884a65323211ff0&keyword=패션 인공지능 커뮤니케이션디자인학회(구 시각디자인학회)\n",
      "생성형 인공지능이 적용된 패션 이미지의 활용방안 제안-학습용 인공지능 데이터와 인공지능 기술적용 중심으로- https://www.riss.kr/search/detail/DetailView.do?p_mat_type=1a0202e37d52c72d&control_no=b22cdd16f60538efd18150b21a227875&keyword=패션 인공지능 한국디자인문화학회\n",
      "패션과 인공지능을 융합한 2D 이미지 기반 가상 착의의 복합적 특성 개선 연구 https://www.riss.kr/search/detail/DetailView.do?p_mat_type=1a0202e37d52c72d&control_no=e7b83280940ee1757ecd42904f0c5d65&keyword=패션 인공지능 한국전시산업융합연구원\n",
      "인공지능 학습용 패션 데이터셋 최근 동향 조사 https://www.riss.kr/search/detail/DetailView.do?p_mat_type=1a0202e37d52c72d&control_no=c4e4105ef5ab879fb7998d826d417196&keyword=패션 인공지능 한국방송·미디어공학회\n",
      "인공지능 기반의 패션 제품 사례 연구 https://www.riss.kr/search/detail/DetailView.do?p_mat_type=1a0202e37d52c72d&control_no=46e9a93845ef4d9ab36097776a77e665&keyword=패션 인공지능 한국기초조형학회(Korean Society of Basic Design & Art)\n",
      "인공지능이 패션산업에 미치는 영향 : 기계학습을 중심으로 https://www.riss.kr/search/detail/DetailView.do?p_mat_type=1a0202e37d52c72d&control_no=13d063967a0be5024884a65323211ff0&keyword=패션 인공지능 한국생활과학회(KOREAN LIVING SCIENCE ASSOCIATION)\n",
      "데이터기반의 인공지능 기술과 패션노믹스 https://www.riss.kr/search/detail/DetailView.do?p_mat_type=1a0202e37d52c72d&control_no=ab979c402289f86ee9810257f7042666&keyword=패션 인공지능 한국감성과학회(Korean Society for Emotion&Sensibility)\n"
     ]
    }
   ],
   "source": [
    "# User-Agent:\n",
    "# Mozilla/5.0 (Windows NT 10.0; Win64; x64) AppleWebKit/537.36 (KHTML, like Gecko) Chrome/125.0.0.0 Safari/537.36\n",
    "\n",
    "# Referer:\n",
    "# https://www.riss.kr/search/Search.do?isDetailSearch=N&searchGubun=true&viewYn=OP&queryText=&strQuery=%ED%8C%A8%EC%85%98+%EC%9D%B8%EA%B3%B5%EC%A7%80%EB%8A%A5&exQuery=&exQueryText=&order=%2FDESC&onHanja=false&strSort=RANK&p_year1=&p_year2=&iStartCount=0&orderBy=&mat_type=&mat_subtype=&fulltext_kind=&t_gubun=&learning_type=&ccl_code=&inside_outside=&fric_yn=&db_type=&image_yn=&gubun=&kdc=&ttsUseYn=&l_sub_code=&fsearchMethod=&sflag=1&isFDetailSearch=N&pageNumber=1&resultKeyword=%ED%8C%A8%EC%85%98+%EC%9D%B8%EA%B3%B5%EC%A7%80%EB%8A%A5&fsearchSort=&fsearchOrder=&limiterList=&limiterListText=&facetList=&facetListText=&fsearchDB=&icate=re_a_kor&colName=re_a_kor&pageScale=100&isTab=Y&regnm=&dorg_storage=&language=&language_code=&clickKeyword=&relationKeyword=&query=%ED%8C%A8%EC%85%98+%EC%9D%B8%EA%B3%B5%EC%A7%80%EB%8A%A5\n",
    "\n",
    "# 헤더가 필요한 경우\n",
    "header = {\n",
    "    'User-Agent' : 'Mozilla/5.0',\n",
    "    'Referer' : 'https://www.riss.kr/search/Search.do?isDetailSearch=N&searchGubun=true&viewYn=OP&queryText=&strQuery=%ED%8C%A8%EC%85%98+%EC%9D%B8%EA%B3%B5%EC%A7%80%EB%8A%A5&exQuery=&exQueryText=&order=%2FDESC&onHanja=false&strSort=RANK&p_year1=&p_year2=&iStartCount=0&orderBy=&mat_type=&mat_subtype=&fulltext_kind=&t_gubun=&learning_type=&ccl_code=&inside_outside=&fric_yn=&db_type=&image_yn=&gubun=&kdc=&ttsUseYn=&l_sub_code=&fsearchMethod=&sflag=1&isFDetailSearch=N&pageNumber=1&resultKeyword=%ED%8C%A8%EC%85%98+%EC%9D%B8%EA%B3%B5%EC%A7%80%EB%8A%A5&fsearchSort=&fsearchOrder=&limiterList=&limiterListText=&facetList=&facetListText=&fsearchDB=&icate=re_a_kor&colName=re_a_kor&pageScale=100&isTab=Y&regnm=&dorg_storage=&language=&language_code=&clickKeyword=&relationKeyword=&query=%ED%8C%A8%EC%85%98+%EC%9D%B8%EA%B3%B5%EC%A7%80%EB%8A%A5'\n",
    "}\n",
    "\n",
    "for article in articles:\n",
    "    title = article.select_one(\".title > a\").text\n",
    "    link = 'https://www.riss.kr' + article.select_one(\".title > a\").attrs['href']\n",
    "\n",
    "    # 상세 페이지 요청\n",
    "    response = requests.get(link, headers= header)      # header에 넣으면 서버를 속일 수 있다.\n",
    "    html = response.text\n",
    "    soup = BeautifulSoup(html, 'html.parser')\n",
    "    # 이렇게 하면 error가 뜬다.\n",
    "    # soup에 원하는 정보가 없다. -> 서버에서 요청 거절을 했기 때문이다.\n",
    "    press = soup.select_one(\".infoDetailL > ul > li:nth-of-type(2) > div\").text\n",
    "    print(title, link, press)"
   ]
  },
  {
   "cell_type": "code",
   "execution_count": null,
   "metadata": {},
   "outputs": [],
   "source": [
    "# SSLError\n",
    "# SSL 인증을 비활성화하면 된다.\n",
    "# User-Agent:\n",
    "# Mozilla/5.0 (Windows NT 10.0; Win64; x64) AppleWebKit/537.36 (KHTML, like Gecko) Chrome/125.0.0.0 Safari/537.36\n",
    "\n",
    "# Referer:\n",
    "# https://www.riss.kr/search/Search.do?isDetailSearch=N&searchGubun=true&viewYn=OP&queryText=&strQuery=%ED%8C%A8%EC%85%98+%EC%9D%B8%EA%B3%B5%EC%A7%80%EB%8A%A5&exQuery=&exQueryText=&order=%2FDESC&onHanja=false&strSort=RANK&p_year1=&p_year2=&iStartCount=0&orderBy=&mat_type=&mat_subtype=&fulltext_kind=&t_gubun=&learning_type=&ccl_code=&inside_outside=&fric_yn=&db_type=&image_yn=&gubun=&kdc=&ttsUseYn=&l_sub_code=&fsearchMethod=&sflag=1&isFDetailSearch=N&pageNumber=1&resultKeyword=%ED%8C%A8%EC%85%98+%EC%9D%B8%EA%B3%B5%EC%A7%80%EB%8A%A5&fsearchSort=&fsearchOrder=&limiterList=&limiterListText=&facetList=&facetListText=&fsearchDB=&icate=re_a_kor&colName=re_a_kor&pageScale=100&isTab=Y&regnm=&dorg_storage=&language=&language_code=&clickKeyword=&relationKeyword=&query=%ED%8C%A8%EC%85%98+%EC%9D%B8%EA%B3%B5%EC%A7%80%EB%8A%A5\n",
    "import urllib3\n",
    "urllib3.disable_warnings()      # warning message를 숨겨준다.\n",
    "# 헤더가 필요한 경우\n",
    "header = {\n",
    "    'User-Agent' : 'Mozilla/5.0',\n",
    "    'Referer' : 'https://www.riss.kr/search/Search.do?isDetailSearch=N&searchGubun=true&viewYn=OP&queryText=&strQuery=%ED%8C%A8%EC%85%98+%EC%9D%B8%EA%B3%B5%EC%A7%80%EB%8A%A5&exQuery=&exQueryText=&order=%2FDESC&onHanja=false&strSort=RANK&p_year1=&p_year2=&iStartCount=0&orderBy=&mat_type=&mat_subtype=&fulltext_kind=&t_gubun=&learning_type=&ccl_code=&inside_outside=&fric_yn=&db_type=&image_yn=&gubun=&kdc=&ttsUseYn=&l_sub_code=&fsearchMethod=&sflag=1&isFDetailSearch=N&pageNumber=1&resultKeyword=%ED%8C%A8%EC%85%98+%EC%9D%B8%EA%B3%B5%EC%A7%80%EB%8A%A5&fsearchSort=&fsearchOrder=&limiterList=&limiterListText=&facetList=&facetListText=&fsearchDB=&icate=re_a_kor&colName=re_a_kor&pageScale=100&isTab=Y&regnm=&dorg_storage=&language=&language_code=&clickKeyword=&relationKeyword=&query=%ED%8C%A8%EC%85%98+%EC%9D%B8%EA%B3%B5%EC%A7%80%EB%8A%A5'\n",
    "}\n",
    "\n",
    "for article in articles:\n",
    "    title = article.select_one(\".title > a\").text\n",
    "    link = 'https://www.riss.kr' + article.select_one(\".title > a\").attrs['href']\n",
    "\n",
    "    # 상세 페이지 요청\n",
    "    response = requests.get(link, headers= header, verify=False)    # <- verify 를 끄면 된다.\n",
    "    html = response.text\n",
    "    soup = BeautifulSoup(html, 'html.parser')\n",
    "    # 이렇게 하면 error가 뜬다.\n",
    "    # soup에 원하는 정보가 없다. -> 서버에서 요청 거절을 했기 때문이다.\n",
    "    press = soup.select_one(\".infoDetailL > ul > li:nth-of-type(2) > div\").text\n",
    "    print(title, link, press)"
   ]
  }
 ],
 "metadata": {
  "kernelspec": {
   "display_name": "Python 3",
   "language": "python",
   "name": "python3"
  },
  "language_info": {
   "codemirror_mode": {
    "name": "ipython",
    "version": 3
   },
   "file_extension": ".py",
   "mimetype": "text/x-python",
   "name": "python",
   "nbconvert_exporter": "python",
   "pygments_lexer": "ipython3",
   "version": "3.11.6"
  }
 },
 "nbformat": 4,
 "nbformat_minor": 2
}
