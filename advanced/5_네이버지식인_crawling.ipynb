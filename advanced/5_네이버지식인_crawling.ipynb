{
 "cells": [
  {
   "cell_type": "code",
   "execution_count": 40,
   "metadata": {},
   "outputs": [],
   "source": [
    "import requests\n",
    "from bs4 import BeautifulSoup\n",
    "\n",
    "response = requests.get(\"https://kin.naver.com/search/list.naver?query=%EC%82%BC%EC%84%B1%EC%A0%84%EC%9E%90\")\n",
    "html = response.text\n",
    "soup = BeautifulSoup(html, \"html.parser\")\n"
   ]
  },
  {
   "cell_type": "code",
   "execution_count": 41,
   "metadata": {},
   "outputs": [],
   "source": [
    "# 1단계\n",
    "# 제목, 링크, 날짜, 카테고리, 답변수 크롤링해서 출력하기\n",
    "# class 명에 특수문자가 있거나 띄어쓰기가 섞여있다.\n",
    "# 카테고리, 답변수 출력 시 nth-of-type 선택자 사용해보기"
   ]
  },
  {
   "cell_type": "code",
   "execution_count": 42,
   "metadata": {},
   "outputs": [
    {
     "data": {
      "text/plain": [
       "<a class=\"_nclicks:kin.txt _searchListTitleAnchor\" href=\"https://kin.naver.com/qna/detail.naver?d1id=7&amp;dirId=70702&amp;docId=469596437&amp;qb=7IK87ISx7KCE7J6Q&amp;enc=utf8§ion=kin.qna_ency&amp;rank=1&amp;search_sort=0&amp;spq=0\" target=\"_blank\"><b>삼성전자</b> 주가 전망 어떻게보시나요?</a>"
      ]
     },
     "execution_count": 42,
     "metadata": {},
     "output_type": "execute_result"
    }
   ],
   "source": [
    "# soup.select_one(\"._nclicks:kin.txt+_searchListTitleAnchor\") 안된다.\n",
    "# 2개가 있으면 안된다.\n",
    "# soup.select_one(\"._nclicks:kin.txt\")      # 이렇게 해도 특수문자 떄문에 안된다. -> escape해야한다.\n",
    "\n",
    "# soup.select_one(\"._nclicks\\\\:kin\\\\.txt\")\n",
    "# 혹은 soup.select_one(\"._searchListTitleAnchor\")\n",
    "soup.select_one(\"._nclicks\\\\:kin\\\\.txt._searchListTitleAnchor\")         # 이렇게 .으로 이으면 둘다 가져올 수 있다."
   ]
  },
  {
   "cell_type": "code",
   "execution_count": 43,
   "metadata": {},
   "outputs": [
    {
     "data": {
      "text/plain": [
       "'2024.05.16.'"
      ]
     },
     "execution_count": 43,
     "metadata": {},
     "output_type": "execute_result"
    }
   ],
   "source": [
    "soup.select_one(\".txt_inline\").text"
   ]
  },
  {
   "cell_type": "code",
   "execution_count": 44,
   "metadata": {},
   "outputs": [
    {
     "data": {
      "text/plain": [
       "'요가, 필라테스'"
      ]
     },
     "execution_count": 44,
     "metadata": {},
     "output_type": "execute_result"
    }
   ],
   "source": [
    "soup.select_one(\".txt_g1._nclicks\\\\:kin\\\\.cat2\").text\n",
    "# 위처럼 하거나 아니면 txt_block class의 2번째 a tag이니깐\n",
    "# soup.select_one(\".txt_block > a:nth-of-type(2)\").text      # 이렇게 하면 된다."
   ]
  },
  {
   "cell_type": "code",
   "execution_count": 45,
   "metadata": {},
   "outputs": [
    {
     "data": {
      "text/plain": [
       "'4'"
      ]
     },
     "execution_count": 45,
     "metadata": {},
     "output_type": "execute_result"
    }
   ],
   "source": [
    "soup.select_one(\".txt_block > span:nth-of-type(2)\").text.split('답변수')[-1].strip()"
   ]
  },
  {
   "cell_type": "code",
   "execution_count": 46,
   "metadata": {},
   "outputs": [
    {
     "name": "stdout",
     "output_type": "stream",
     "text": [
      "삼성전자 주가 전망 어떻게보시나요? https://kin.naver.com/qna/detail.naver?d1id=7&dirId=70702&docId=469596437&qb=7IK87ISx7KCE7J6Q&enc=utf8§ion=kin.qna_ency&rank=1&search_sort=0&spq=0 2024.05.16. 요가, 필라테스 4\n",
      "삼성전자 DS 5급 채용 공고 질문 https://kin.naver.com/qna/detail.naver?d1id=4&dirId=406&docId=466440823&qb=7IK87ISx7KCE7J6Q&enc=utf8§ion=kin.qna_ency&rank=2&search_sort=0&spq=0 2024.03.18. 직업, 취업 2\n",
      "삼성전자는 85인치티비 엘지전자는...  https://kin.naver.com/qna/detail.naver?d1id=3&dirId=30205&docId=468202687&qb=7IK87ISx7KCE7J6Q&enc=utf8§ion=kin.qna_ency&rank=3&search_sort=0&spq=0 2024.04.26. 인디, 언더그라운드 음악 2\n",
      "삼성전자 배당락일 https://kin.naver.com/qna/detail.naver?d1id=4&dirId=40102&docId=467078123&qb=7IK87ISx7KCE7J6Q&enc=utf8§ion=kin.qna_ency&rank=4&search_sort=0&spq=0 2024.03.29. 주식, 증권 4\n",
      "삼성전자 고졸 채용 https://kin.naver.com/qna/detail.naver?d1id=4&dirId=406&docId=450412198&qb=7IK87ISx7KCE7J6Q&enc=utf8§ion=kin.qna_ency&rank=5&search_sort=0&spq=0 2023.07.19. 직업, 취업 6\n",
      "s24울트라 삼성전자 매장에서...  https://kin.naver.com/qna/detail.naver?d1id=5&dirId=50106&docId=467722222&qb=7IK87ISx7KCE7J6Q&enc=utf8§ion=kin.qna_ency&rank=6&search_sort=0&spq=0 2024.04.09. 스마트폰 1\n",
      "삼성전자의 자산은 얼마인가요? https://kin.naver.com/qna/detail.naver?d1id=4&dirId=40102&docId=468515251&qb=7IK87ISx7KCE7J6Q&enc=utf8§ion=kin.qna_ency&rank=7&search_sort=0&spq=0 2024.04.22. 주식, 증권 1\n",
      "삼성전자우 주가 다시 큰 상승이...  https://kin.naver.com/qna/detail.naver?d1id=4&dirId=40102&docId=469506978&qb=7IK87ISx7KCE7J6Q&enc=utf8§ion=kin.qna_ency&rank=8&search_sort=0&spq=0 2024.05.14. 주식, 증권 2\n",
      "삼성전자 마케팅 전략 https://kin.naver.com/qna/detail.naver?d1id=4&dirId=40401&docId=467408586&qb=7IK87ISx7KCE7J6Q&enc=utf8§ion=kin.qna_ency&rank=9&search_sort=0&spq=0 2024.04.04. 마케팅, 영업 4\n",
      "삼성전자 용접 자격증 질문 https://kin.naver.com/qna/detail.naver?d1id=11&dirId=11080405&docId=465316555&qb=7IK87ISx7KCE7J6Q&enc=utf8§ion=kin.qna_ency&rank=10&search_sort=0&spq=0 2024.02.29. 생활일본어, 회화 2\n"
     ]
    }
   ],
   "source": [
    "############################################################################################################################################\n",
    "# 2단계\n",
    "# 1 페이지 10개 지식인\n",
    "# 제목, 링크, 날짜, 카테고리, 답변수 크롤링해서 출력하기\n",
    "import requests\n",
    "from bs4 import BeautifulSoup\n",
    "\n",
    "response = requests.get(\"https://kin.naver.com/search/list.naver?query=%EC%82%BC%EC%84%B1%EC%A0%84%EC%9E%90\")\n",
    "html = response.text\n",
    "soup = BeautifulSoup(html, \"html.parser\")\n",
    "posts = soup.select(\".basic1 > li\")\n",
    "for post in posts:\n",
    "    title = post.select_one(\"._nclicks\\\\:kin\\\\.txt._searchListTitleAnchor\").text\n",
    "    link = post.select_one(\"._nclicks\\\\:kin\\\\.txt\").attrs['href']\n",
    "    date = post.select_one(\".txt_inline\").text\n",
    "    category = post.select_one(\".txt_g1._nclicks\\\\:kin\\\\.cat2\").text\n",
    "    review = post.select_one(\".txt_block > span:nth-of-type(2)\").text.split('답변수')[-1].strip()\n",
    "    print(title, link, date, category, review)"
   ]
  },
  {
   "cell_type": "code",
   "execution_count": 47,
   "metadata": {},
   "outputs": [
    {
     "name": "stdout",
     "output_type": "stream",
     "text": [
      "삼성전자 주가 전망 어떻게보시나요? https://kin.naver.com/qna/detail.naver?d1id=7&dirId=70702&docId=469596437&qb=7IK87ISx7KCE7J6Q&enc=utf8§ion=kin.qna_ency&rank=1&search_sort=0&spq=0 2024.05.16. 요가, 필라테스 4\n",
      "삼성전자 DS 5급 채용 공고 질문 https://kin.naver.com/qna/detail.naver?d1id=4&dirId=406&docId=466440823&qb=7IK87ISx7KCE7J6Q&enc=utf8§ion=kin.qna_ency&rank=2&search_sort=0&spq=0 2024.03.18. 직업, 취업 2\n",
      "삼성전자는 85인치티비 엘지전자는...  https://kin.naver.com/qna/detail.naver?d1id=3&dirId=30205&docId=468202687&qb=7IK87ISx7KCE7J6Q&enc=utf8§ion=kin.qna_ency&rank=3&search_sort=0&spq=0 2024.04.26. 인디, 언더그라운드 음악 2\n",
      "삼성전자 배당락일 https://kin.naver.com/qna/detail.naver?d1id=4&dirId=40102&docId=467078123&qb=7IK87ISx7KCE7J6Q&enc=utf8§ion=kin.qna_ency&rank=4&search_sort=0&spq=0 2024.03.29. 주식, 증권 4\n",
      "삼성전자 고졸 채용 https://kin.naver.com/qna/detail.naver?d1id=4&dirId=406&docId=450412198&qb=7IK87ISx7KCE7J6Q&enc=utf8§ion=kin.qna_ency&rank=5&search_sort=0&spq=0 2023.07.19. 직업, 취업 6\n",
      "s24울트라 삼성전자 매장에서...  https://kin.naver.com/qna/detail.naver?d1id=5&dirId=50106&docId=467722222&qb=7IK87ISx7KCE7J6Q&enc=utf8§ion=kin.qna_ency&rank=6&search_sort=0&spq=0 2024.04.09. 스마트폰 1\n",
      "삼성전자의 자산은 얼마인가요? https://kin.naver.com/qna/detail.naver?d1id=4&dirId=40102&docId=468515251&qb=7IK87ISx7KCE7J6Q&enc=utf8§ion=kin.qna_ency&rank=7&search_sort=0&spq=0 2024.04.22. 주식, 증권 1\n",
      "삼성전자우 주가 다시 큰 상승이...  https://kin.naver.com/qna/detail.naver?d1id=4&dirId=40102&docId=469506978&qb=7IK87ISx7KCE7J6Q&enc=utf8§ion=kin.qna_ency&rank=8&search_sort=0&spq=0 2024.05.14. 주식, 증권 2\n",
      "삼성전자 마케팅 전략 https://kin.naver.com/qna/detail.naver?d1id=4&dirId=40401&docId=467408586&qb=7IK87ISx7KCE7J6Q&enc=utf8§ion=kin.qna_ency&rank=9&search_sort=0&spq=0 2024.04.04. 마케팅, 영업 4\n",
      "삼성전자 용접 자격증 질문 https://kin.naver.com/qna/detail.naver?d1id=11&dirId=11080405&docId=465316555&qb=7IK87ISx7KCE7J6Q&enc=utf8§ion=kin.qna_ency&rank=10&search_sort=0&spq=0 2024.02.29. 생활일본어, 회화 2\n",
      "삼성전자에 대해서!! https://kin.naver.com/qna/detail.naver?d1id=6&dirId=6020602&docId=466760763&qb=7IK87ISx7KCE7J6Q&enc=utf8§ion=kin.qna_ency&rank=11&search_sort=0&spq=0 2024.03.24. 강력범죄 1\n",
      "삼성전자 에어컨 https://kin.naver.com/qna/detail.naver?d1id=1&dirId=107040201&docId=466745311&qb=7IK87ISx7KCE7J6Q&enc=utf8§ion=kin.qna_ency&rank=12&search_sort=0&spq=0 2024.03.23. 삼성 1\n",
      "삼성전자 렌탈 https://kin.naver.com/qna/detail.naver?d1id=5&dirId=50104&docId=469078794&qb=7IK87ISx7KCE7J6Q&enc=utf8§ion=kin.qna_ency&rank=13&search_sort=0&spq=0 2024.05.03. 청소, 주방, 계절 가전 6\n",
      "삼성전자 비스포크 AF17C5734AZS https://kin.naver.com/qna/detail.naver?d1id=5&dirId=50104&docId=468441049&qb=7IK87ISx7KCE7J6Q&enc=utf8§ion=kin.qna_ency&rank=14&search_sort=0&spq=0 2024.04.22. 청소, 주방, 계절 가전 1\n",
      "삼성전자 티비 하자 환불 불가 문의 https://kin.naver.com/qna/detail.naver?d1id=6&dirId=60207&docId=466741728&qb=7IK87ISx7KCE7J6Q&enc=utf8§ion=kin.qna_ency&rank=15&search_sort=0&spq=0 2024.05.05. 소비자관련법, 상법 1\n",
      "삼성전자 DS 부문 지원 하고싶은데...  https://kin.naver.com/qna/detail.naver?d1id=4&dirId=40609&docId=468593254&qb=7IK87ISx7KCE7J6Q&enc=utf8§ion=kin.qna_ency&rank=16&search_sort=0&spq=0 2024.04.24. 생산, 기술 1\n",
      "삼성전자주가 예측될까요? https://kin.naver.com/qna/detail.naver?d1id=1&dirId=10102&docId=468830101&qb=7IK87ISx7KCE7J6Q&enc=utf8§ion=kin.qna_ency&rank=17&search_sort=0&spq=0 2024.05.11. 노트북 4\n",
      "삼성전자 주가 이대로 홀딩 해도...  https://kin.naver.com/qna/detail.naver?d1id=11&dirId=110408&docId=469358615&qb=7IK87ISx7KCE7J6Q&enc=utf8§ion=kin.qna_ency&rank=18&search_sort=0&spq=0 2024.05.10. 대학 입시, 진학 5\n",
      "삼성전자 오픽 https://kin.naver.com/qna/detail.naver?d1id=4&dirId=410&docId=459333313&qb=7IK87ISx7KCE7J6Q&enc=utf8§ion=kin.qna_ency&rank=19&search_sort=0&spq=0 2023.11.28. 경제 기관, 단체 1\n",
      "삼성전자 노트북 https://kin.naver.com/qna/detail.naver?d1id=1&dirId=10102&docId=467255310&qb=7IK87ISx7KCE7J6Q&enc=utf8§ion=kin.qna_ency&rank=20&search_sort=0&spq=0 2024.04.01. 노트북 1\n",
      "2024 삼성전자 5급 채용 https://kin.naver.com/qna/detail.naver?d1id=4&dirId=40609&docId=466263222&qb=7IK87ISx7KCE7J6Q&enc=utf8§ion=kin.qna_ency&rank=21&search_sort=0&spq=0 2024.03.15. 생산, 기술 1\n",
      "삼성전자 신체검사 몸무게 https://kin.naver.com/qna/detail.naver?d1id=7&dirId=70117&docId=461693534&qb=7IK87ISx7KCE7J6Q&enc=utf8§ion=kin.qna_ency&rank=22&search_sort=0&spq=0 2024.01.06. 가정의학과 1\n",
      "삼성전자 기흥, 동탄 https://kin.naver.com/qna/detail.naver?d1id=10&dirId=1001020206&docId=468638589&qb=7IK87ISx7KCE7J6Q&enc=utf8§ion=kin.qna_ency&rank=23&search_sort=0&spq=0 2024.04.24. 삼성라이온즈 1\n",
      "삼성전자그랑데 자동세제함 https://kin.naver.com/qna/detail.naver?d1id=8&dirId=80903&docId=464488149&qb=7IK87ISx7KCE7J6Q&enc=utf8§ion=kin.qna_ency&rank=24&search_sort=0&spq=0 2024.02.19. 세탁, 수선 1\n",
      "삼성전자주가 괜찮을까요? https://kin.naver.com/qna/detail.naver?d1id=4&dirId=40701&docId=468782033&qb=7IK87ISx7KCE7J6Q&enc=utf8§ion=kin.qna_ency&rank=25&search_sort=0&spq=0 2024.04.27. 판매, 유통업 4\n",
      "삼성전자 우선주... https://kin.naver.com/qna/detail.naver?d1id=4&dirId=40102&docId=467087180&qb=7IK87ISx7KCE7J6Q&enc=utf8§ion=kin.qna_ency&rank=26&search_sort=0&spq=0 2024.03.29. 주식, 증권 2\n",
      "삼성전자 주가전망이 궁금해요 https://kin.naver.com/qna/detail.naver?d1id=8&dirId=80301&docId=467452118&qb=7IK87ISx7KCE7J6Q&enc=utf8§ion=kin.qna_ency&rank=27&search_sort=0&spq=0 2024.04.05. 피부관리 5\n",
      "삼성전자dx 채용건강검진에서 탈락하는...  https://kin.naver.com/qna/detail.naver?d1id=11&dirId=111604&docId=467278966&qb=7IK87ISx7KCE7J6Q&enc=utf8§ion=kin.qna_ency&rank=28&search_sort=0&spq=0 2024.04.11. 해부학 1\n",
      "삼성전자랑 삼성sds랑 어떻게 다른건가요? https://kin.naver.com/qna/detail.naver?d1id=1&dirId=107040201&docId=453838246&qb=7IK87ISx7KCE7J6Q&enc=utf8§ion=kin.qna_ency&rank=29&search_sort=0&spq=0 2023.09.03. 삼성 1\n",
      "삼성전자 채용 https://kin.naver.com/qna/detail.naver?d1id=1&dirId=10901&docId=459089887&qb=7IK87ISx7KCE7J6Q&enc=utf8§ion=kin.qna_ency&rank=30&search_sort=0&spq=0 2023.12.05. 케이블TV 2\n",
      "삼성전자 노트북 플러스2 https://kin.naver.com/qna/detail.naver?d1id=1&dirId=10102&docId=459361761&qb=7IK87ISx7KCE7J6Q&enc=utf8§ion=kin.qna_ency&rank=31&search_sort=0&spq=0 2023.11.28. 노트북 1\n",
      "월마트랑 삼성전자 중에 어디가 더 큰...  https://kin.naver.com/qna/detail.naver?d1id=4&dirId=406&docId=466622038&qb=7IK87ISx7KCE7J6Q&enc=utf8§ion=kin.qna_ency&rank=32&search_sort=0&spq=0 2024.03.21. 직업, 취업 1\n",
      "삼성전자 이직 https://kin.naver.com/qna/detail.naver?d1id=4&dirId=40612&docId=467131797&qb=7IK87ISx7KCE7J6Q&enc=utf8§ion=kin.qna_ency&rank=33&search_sort=0&spq=0 2024.03.30. 취업 정책, 제도 2\n",
      "삼성전자DS 만의 차별화된 기술 https://kin.naver.com/qna/detail.naver?d1id=11&dirId=1118&docId=464735966&qb=7IK87ISx7KCE7J6Q&enc=utf8§ion=kin.qna_ency&rank=34&search_sort=0&spq=0 2024.02.20. 전기, 전자 공학 1\n",
      "삼성 전자레인지 오븐 사용법 https://kin.naver.com/qna/detail.naver?d1id=5&dirId=50104&docId=464524725&qb=7IK87ISx7KCE7J6Q&enc=utf8§ion=kin.qna_ency&rank=35&search_sort=0&spq=0 2024.02.19. 청소, 주방, 계절 가전 1\n",
      "삼성전자 QLED tv https://kin.naver.com/qna/detail.naver?d1id=1&dirId=10901&docId=458999330&qb=7IK87ISx7KCE7J6Q&enc=utf8§ion=kin.qna_ency&rank=36&search_sort=0&spq=0 2024.02.16. 케이블TV 2\n",
      "삼성 전자 입사 https://kin.naver.com/qna/detail.naver?d1id=11&dirId=1118&docId=465985279&qb=7IK87ISx7KCE7J6Q&enc=utf8§ion=kin.qna_ency&rank=37&search_sort=0&spq=0 2024.03.10. 전기, 전자 공학 1\n",
      "삼성전자 배당금 (내공100) https://kin.naver.com/qna/detail.naver?d1id=4&dirId=40102&docId=388234555&qb=7IK87ISx7KCE7J6Q&enc=utf8§ion=kin.qna_ency&rank=38&search_sort=0&spq=0 2024.03.19. 주식, 증권 7\n",
      "9급 공무원이랑 삼성전자 중에 어디가 더...  https://kin.naver.com/qna/detail.naver?d1id=4&dirId=40601&docId=462770415&qb=7IK87ISx7KCE7J6Q&enc=utf8§ion=kin.qna_ency&rank=39&search_sort=0&spq=0 2024.01.23. 공무원 3\n",
      "삼성전자 냉장고 배송 설치 https://kin.naver.com/qna/detail.naver?d1id=5&dirId=50104&docId=461576295&qb=7IK87ISx7KCE7J6Q&enc=utf8§ion=kin.qna_ency&rank=40&search_sort=0&spq=0 2024.01.06. 청소, 주방, 계절 가전 6\n"
     ]
    }
   ],
   "source": [
    "# 3단계\n",
    "# 1 ~ N페이지까지 크롤링하기 (N:사용자가 입력한 숫자) - input command\n",
    "import requests\n",
    "from bs4 import BeautifulSoup\n",
    "\n",
    "page = int(input(\"몇 페이지까지 크롤링 하시겠습니까?\"))\n",
    "\n",
    "\n",
    "for i in range(1, page + 1):\n",
    "    response = requests.get(f\"https://kin.naver.com/search/list.naver?query=%EC%82%BC%EC%84%B1%EC%A0%84%EC%9E%90&page={i}\")\n",
    "    html = response.text\n",
    "    soup = BeautifulSoup(html, \"html.parser\")\n",
    "    posts = soup.select(\".basic1 > li\")\n",
    "    for post in posts:\n",
    "        title = post.select_one(\"._nclicks\\\\:kin\\\\.txt._searchListTitleAnchor\").text\n",
    "        link = post.select_one(\"._nclicks\\\\:kin\\\\.txt\").attrs['href']\n",
    "        date = post.select_one(\".txt_inline\").text\n",
    "        category = post.select_one(\".txt_g1._nclicks\\\\:kin\\\\.cat2\").text\n",
    "        review = post.select_one(\".txt_block > span:nth-of-type(2)\").text.split('답변수')[-1].strip()\n",
    "        print(title, link, date, category, review)"
   ]
  },
  {
   "cell_type": "code",
   "execution_count": 52,
   "metadata": {},
   "outputs": [
    {
     "name": "stdout",
     "output_type": "stream",
     "text": [
      "삼성전자 주가 전망 어떻게보시나요? https://kin.naver.com/qna/detail.naver?d1id=7&dirId=70702&docId=469596437&qb=7IK87ISx7KCE7J6Q&enc=utf8§ion=kin.qna_ency&rank=1&search_sort=0&spq=0 2024.05.16. 요가, 필라테스 4\n",
      "삼성전자 DS 5급 채용 공고 질문 https://kin.naver.com/qna/detail.naver?d1id=4&dirId=406&docId=466440823&qb=7IK87ISx7KCE7J6Q&enc=utf8§ion=kin.qna_ency&rank=2&search_sort=0&spq=0 2024.03.18. 직업, 취업 2\n",
      "삼성전자는 85인치티비 엘지전자는...  https://kin.naver.com/qna/detail.naver?d1id=3&dirId=30205&docId=468202687&qb=7IK87ISx7KCE7J6Q&enc=utf8§ion=kin.qna_ency&rank=3&search_sort=0&spq=0 2024.04.26. 인디, 언더그라운드 음악 2\n",
      "삼성전자 배당락일 https://kin.naver.com/qna/detail.naver?d1id=4&dirId=40102&docId=467078123&qb=7IK87ISx7KCE7J6Q&enc=utf8§ion=kin.qna_ency&rank=4&search_sort=0&spq=0 2024.03.29. 주식, 증권 4\n",
      "삼성전자 고졸 채용 https://kin.naver.com/qna/detail.naver?d1id=4&dirId=406&docId=450412198&qb=7IK87ISx7KCE7J6Q&enc=utf8§ion=kin.qna_ency&rank=5&search_sort=0&spq=0 2023.07.19. 직업, 취업 6\n",
      "s24울트라 삼성전자 매장에서...  https://kin.naver.com/qna/detail.naver?d1id=5&dirId=50106&docId=467722222&qb=7IK87ISx7KCE7J6Q&enc=utf8§ion=kin.qna_ency&rank=6&search_sort=0&spq=0 2024.04.09. 스마트폰 1\n",
      "삼성전자의 자산은 얼마인가요? https://kin.naver.com/qna/detail.naver?d1id=4&dirId=40102&docId=468515251&qb=7IK87ISx7KCE7J6Q&enc=utf8§ion=kin.qna_ency&rank=7&search_sort=0&spq=0 2024.04.22. 주식, 증권 1\n",
      "삼성전자우 주가 다시 큰 상승이...  https://kin.naver.com/qna/detail.naver?d1id=4&dirId=40102&docId=469506978&qb=7IK87ISx7KCE7J6Q&enc=utf8§ion=kin.qna_ency&rank=8&search_sort=0&spq=0 2024.05.14. 주식, 증권 2\n",
      "삼성전자 마케팅 전략 https://kin.naver.com/qna/detail.naver?d1id=4&dirId=40401&docId=467408586&qb=7IK87ISx7KCE7J6Q&enc=utf8§ion=kin.qna_ency&rank=9&search_sort=0&spq=0 2024.04.04. 마케팅, 영업 4\n",
      "삼성전자 용접 자격증 질문 https://kin.naver.com/qna/detail.naver?d1id=11&dirId=11080405&docId=465316555&qb=7IK87ISx7KCE7J6Q&enc=utf8§ion=kin.qna_ency&rank=10&search_sort=0&spq=0 2024.02.29. 생활일본어, 회화 2\n",
      "삼성전자에 대해서!! https://kin.naver.com/qna/detail.naver?d1id=6&dirId=6020602&docId=466760763&qb=7IK87ISx7KCE7J6Q&enc=utf8§ion=kin.qna_ency&rank=11&search_sort=0&spq=0 2024.03.24. 강력범죄 1\n",
      "삼성전자 에어컨 https://kin.naver.com/qna/detail.naver?d1id=1&dirId=107040201&docId=466745311&qb=7IK87ISx7KCE7J6Q&enc=utf8§ion=kin.qna_ency&rank=12&search_sort=0&spq=0 2024.03.23. 삼성 1\n",
      "삼성전자 렌탈 https://kin.naver.com/qna/detail.naver?d1id=5&dirId=50104&docId=469078794&qb=7IK87ISx7KCE7J6Q&enc=utf8§ion=kin.qna_ency&rank=13&search_sort=0&spq=0 2024.05.03. 청소, 주방, 계절 가전 6\n",
      "삼성전자 비스포크 AF17C5734AZS https://kin.naver.com/qna/detail.naver?d1id=5&dirId=50104&docId=468441049&qb=7IK87ISx7KCE7J6Q&enc=utf8§ion=kin.qna_ency&rank=14&search_sort=0&spq=0 2024.04.22. 청소, 주방, 계절 가전 1\n",
      "삼성전자 티비 하자 환불 불가 문의 https://kin.naver.com/qna/detail.naver?d1id=6&dirId=60207&docId=466741728&qb=7IK87ISx7KCE7J6Q&enc=utf8§ion=kin.qna_ency&rank=15&search_sort=0&spq=0 2024.05.05. 소비자관련법, 상법 1\n",
      "삼성전자 DS 부문 지원 하고싶은데...  https://kin.naver.com/qna/detail.naver?d1id=4&dirId=40609&docId=468593254&qb=7IK87ISx7KCE7J6Q&enc=utf8§ion=kin.qna_ency&rank=16&search_sort=0&spq=0 2024.04.24. 생산, 기술 1\n",
      "삼성전자주가 예측될까요? https://kin.naver.com/qna/detail.naver?d1id=1&dirId=10102&docId=468830101&qb=7IK87ISx7KCE7J6Q&enc=utf8§ion=kin.qna_ency&rank=17&search_sort=0&spq=0 2024.05.11. 노트북 4\n",
      "삼성전자 주가 이대로 홀딩 해도...  https://kin.naver.com/qna/detail.naver?d1id=11&dirId=110408&docId=469358615&qb=7IK87ISx7KCE7J6Q&enc=utf8§ion=kin.qna_ency&rank=18&search_sort=0&spq=0 2024.05.10. 대학 입시, 진학 5\n",
      "삼성전자 오픽 https://kin.naver.com/qna/detail.naver?d1id=4&dirId=410&docId=459333313&qb=7IK87ISx7KCE7J6Q&enc=utf8§ion=kin.qna_ency&rank=19&search_sort=0&spq=0 2023.11.28. 경제 기관, 단체 1\n",
      "삼성전자 노트북 https://kin.naver.com/qna/detail.naver?d1id=1&dirId=10102&docId=467255310&qb=7IK87ISx7KCE7J6Q&enc=utf8§ion=kin.qna_ency&rank=20&search_sort=0&spq=0 2024.04.01. 노트북 1\n",
      "2024 삼성전자 5급 채용 https://kin.naver.com/qna/detail.naver?d1id=4&dirId=40609&docId=466263222&qb=7IK87ISx7KCE7J6Q&enc=utf8§ion=kin.qna_ency&rank=21&search_sort=0&spq=0 2024.03.15. 생산, 기술 1\n",
      "삼성전자 신체검사 몸무게 https://kin.naver.com/qna/detail.naver?d1id=7&dirId=70117&docId=461693534&qb=7IK87ISx7KCE7J6Q&enc=utf8§ion=kin.qna_ency&rank=22&search_sort=0&spq=0 2024.01.06. 가정의학과 1\n",
      "삼성전자 기흥, 동탄 https://kin.naver.com/qna/detail.naver?d1id=10&dirId=1001020206&docId=468638589&qb=7IK87ISx7KCE7J6Q&enc=utf8§ion=kin.qna_ency&rank=23&search_sort=0&spq=0 2024.04.24. 삼성라이온즈 1\n",
      "삼성전자그랑데 자동세제함 https://kin.naver.com/qna/detail.naver?d1id=8&dirId=80903&docId=464488149&qb=7IK87ISx7KCE7J6Q&enc=utf8§ion=kin.qna_ency&rank=24&search_sort=0&spq=0 2024.02.19. 세탁, 수선 1\n",
      "삼성전자주가 괜찮을까요? https://kin.naver.com/qna/detail.naver?d1id=4&dirId=40701&docId=468782033&qb=7IK87ISx7KCE7J6Q&enc=utf8§ion=kin.qna_ency&rank=25&search_sort=0&spq=0 2024.04.27. 판매, 유통업 4\n",
      "삼성전자 우선주... https://kin.naver.com/qna/detail.naver?d1id=4&dirId=40102&docId=467087180&qb=7IK87ISx7KCE7J6Q&enc=utf8§ion=kin.qna_ency&rank=26&search_sort=0&spq=0 2024.03.29. 주식, 증권 2\n",
      "삼성전자 주가전망이 궁금해요 https://kin.naver.com/qna/detail.naver?d1id=8&dirId=80301&docId=467452118&qb=7IK87ISx7KCE7J6Q&enc=utf8§ion=kin.qna_ency&rank=27&search_sort=0&spq=0 2024.04.05. 피부관리 5\n",
      "삼성전자dx 채용건강검진에서 탈락하는...  https://kin.naver.com/qna/detail.naver?d1id=11&dirId=111604&docId=467278966&qb=7IK87ISx7KCE7J6Q&enc=utf8§ion=kin.qna_ency&rank=28&search_sort=0&spq=0 2024.04.11. 해부학 1\n",
      "삼성전자랑 삼성sds랑 어떻게 다른건가요? https://kin.naver.com/qna/detail.naver?d1id=1&dirId=107040201&docId=453838246&qb=7IK87ISx7KCE7J6Q&enc=utf8§ion=kin.qna_ency&rank=29&search_sort=0&spq=0 2023.09.03. 삼성 1\n",
      "삼성전자 채용 https://kin.naver.com/qna/detail.naver?d1id=1&dirId=10901&docId=459089887&qb=7IK87ISx7KCE7J6Q&enc=utf8§ion=kin.qna_ency&rank=30&search_sort=0&spq=0 2023.12.05. 케이블TV 2\n"
     ]
    }
   ],
   "source": [
    "# 4단계\n",
    "# 엑셀저장\n",
    "import requests\n",
    "from bs4 import BeautifulSoup\n",
    "import pandas as pd\n",
    "\n",
    "page = int(input(\"몇 페이지까지 크롤링 하시겠습니까?\"))\n",
    "\n",
    "data = []\n",
    "for i in range(1, page + 1):\n",
    "    response = requests.get(f\"https://kin.naver.com/search/list.naver?query=%EC%82%BC%EC%84%B1%EC%A0%84%EC%9E%90&page={i}\")\n",
    "    html = response.text\n",
    "    soup = BeautifulSoup(html, \"html.parser\")\n",
    "    posts = soup.select(\".basic1 > li\")\n",
    "    for post in posts:\n",
    "        title = post.select_one(\"._nclicks\\\\:kin\\\\.txt._searchListTitleAnchor\").text\n",
    "        link = post.select_one(\"._nclicks\\\\:kin\\\\.txt\").attrs['href']\n",
    "        date = post.select_one(\".txt_inline\").text\n",
    "        category = post.select_one(\".txt_g1._nclicks\\\\:kin\\\\.cat2\").text\n",
    "        review = post.select_one(\".txt_block > span:nth-of-type(2)\").text.split('답변수')[-1].strip()\n",
    "        print(title, link, date, category, review)\n",
    "        data.append([title, link, date, category, int(review)])\n",
    "    "
   ]
  },
  {
   "cell_type": "code",
   "execution_count": 53,
   "metadata": {},
   "outputs": [],
   "source": [
    "df = pd.DataFrame(data, columns=['제목', '링크', '날짜', '카테고리', '답변수'])"
   ]
  },
  {
   "cell_type": "code",
   "execution_count": 54,
   "metadata": {},
   "outputs": [],
   "source": [
    "df.to_excel(\"naver_kin_crawling.xlsx\")"
   ]
  }
 ],
 "metadata": {
  "kernelspec": {
   "display_name": "Python 3",
   "language": "python",
   "name": "python3"
  },
  "language_info": {
   "codemirror_mode": {
    "name": "ipython",
    "version": 3
   },
   "file_extension": ".py",
   "mimetype": "text/x-python",
   "name": "python",
   "nbconvert_exporter": "python",
   "pygments_lexer": "ipython3",
   "version": "3.11.6"
  }
 },
 "nbformat": 4,
 "nbformat_minor": 2
}
